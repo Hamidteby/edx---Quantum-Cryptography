{
 "cells": [
  {
   "cell_type": "markdown",
   "metadata": {},
   "source": [
    "Some information/instruction.\n",
    "----\n"
   ]
  },
  {
   "cell_type": "markdown",
   "metadata": {},
   "source": [
    "<h1>Welcome</h1>\n",
    "\n",
    "Welcome to the first Jupyter notebook provided throughout this course on Quantum Cryptography.\n",
    "\n",
    "First off, <b>what is a Jupyter notebook?</b> \n",
    "\n",
    "A Jupyter notebook is viewed in the browser and takes, as the name suggests, the role of a notebook. \n",
    "\n",
    "A Jupyter notebooks allows us to combine text, equations and images with functional computer code.\n",
    "\n",
    "In other words, Jupyter notebooks allow us to work on the computer similarly as one would using an ordinary notebook and a graphical calculator.\n",
    "\n",
    "Here, computer code is implemented that makes calculations and plots graphs for us. \n",
    "\n",
    "The most common computer languages used in Jupyter notebooks are Julia, Python and R. This explains the choice of name Ju(lia)pyt(thon)(e)r.\n",
    "\n",
    "The notebooks provided throughout this course make use of code written in the Julia language.\n",
    "\n",
    "<h4>Accessible notebooks</h4>\n",
    "\n",
    "In case you are not familiar with computer code, no worries.\n",
    "\n",
    "The notebooks are meant to be accessible and <b>no previous knowledge on computer code is required</b>.\n",
    "\n",
    "The Julia code that is used throughout these notebooks works from the get go.\n",
    "\n",
    "By making use of the <b>interactive elements</b>, you can <b>explore quantum cryptography</b> in more detail.\n",
    "\n",
    "To illustrate, <b>please click inside the box of code just below and press shift-enter.</b>\n",
    "\n",
    "You will see a slider appear that can be used to interact with the code."
   ]
  },
  {
   "cell_type": "code",
   "execution_count": 2,
   "metadata": {
    "collapsed": false
   },
   "outputs": [
    {
     "data": {
      "text/html": [],
      "text/plain": [
       "Interact.Options{:SelectionSlider,Int64}(Signal{Int64}(4, nactions=1),\"n\",4,\"4\",Interact.OptionDict(DataStructures.OrderedDict(\"0\"=>0,\"1\"=>1,\"2\"=>2,\"3\"=>3,\"4\"=>4,\"5\"=>5,\"6\"=>6,\"7\"=>7,\"8\"=>8,\"9\"=>9,\"10\"=>10),Dict(2=>\"2\",0=>\"0\",7=>\"7\",9=>\"9\",10=>\"10\",8=>\"8\",6=>\"6\",4=>\"4\",3=>\"3\",5=>\"5\",1=>\"1\")),Any[],Any[],true,\"horizontal\")"
      ]
     },
     "metadata": {},
     "output_type": "display_data"
    },
    {
     "name": "stdout",
     "output_type": "stream",
     "text": [
      "n^2 ="
     ]
    },
    {
     "data": {
      "text/plain": [
       "16"
      ]
     },
     "execution_count": 2,
     "metadata": {
      "comm_id": "ef1eb062-7114-4e8e-877a-e2e32e27ea59",
      "reactive": true
     },
     "output_type": "execute_result"
    }
   ],
   "source": [
    "using Interact\n",
    "\n",
    "print(\"n^2 =\"); # print the text \"n^2 = \"\n",
    "@manipulate for n in 0:10; # lets us manipulate the value of the parameter `n` in the range 0 to 10   \n",
    "    n^2;                   # calculate and display the value of n squared\n",
    "end"
   ]
  },
  {
   "cell_type": "markdown",
   "metadata": {},
   "source": [
    "Later on in this notebook we will consider quantum mechanics and the role of interactive elements will be clear.\n",
    "\n",
    "<h4>Play around</h4>\n",
    "\n",
    "Besides playing around with the sliders and buttons, we do encourage you to tinker with/alter the originally provided code. \n",
    "\n",
    "We expect the computer code to be accessible and we invite you to modify/tinker with the provided material.\n",
    "\n",
    "To illustrate, a basic example of code would be determining the sum of $x$ and $y$.\n",
    "\n",
    "One can click inside the block of code and modify the values assigned to $x$ and $y$. This is done by changing the number after the equality sign into another.\n",
    "\n",
    "<b>Click inside the block of code and press shift+enter</b> to learn the value of $x+y$. \n",
    "\n",
    "Please try it out."
   ]
  },
  {
   "cell_type": "code",
   "execution_count": 3,
   "metadata": {
    "collapsed": false
   },
   "outputs": [
    {
     "data": {
      "text/plain": [
       "10"
      ]
     },
     "execution_count": 3,
     "metadata": {},
     "output_type": "execute_result"
    }
   ],
   "source": [
    "x = 9    # assign a value to x\n",
    "y = 1    # assign a value to y\n",
    "x+y      # calculate and display the value of x+y"
   ]
  },
  {
   "cell_type": "markdown",
   "metadata": {},
   "source": [
    "<b>Note:</b> text following a bracket \"#\" counts as a comment and is not used by the computer in making the calculations.\n",
    "\n",
    "If you are new to programming, by reading the comments next to the code you could learn about computer code/programming as you go along. \n",
    "\n",
    "To quickly get a feel for how one works with Julia see for example <a href=\"https://learnxinyminutes.com/docs/julia/\">Learn X in Y Minutes</a> and <a href=\"http://samuelcolvin.github.io/JuliaByExample/\">Julia By Example</a>. \n",
    "\n",
    "For a detailed introduction to programming using Julia, we can recommend <a href=\"http://quant-econ.net/jl/learning_julia.html \">Learning Julia</a>. Furthermore, <a href=\"http://www.nowozin.net/sebastian/blog/the-julia-language-for-scientific-computing.html\"> this article</a> explains why we have opted to use the Julia programming language.\n",
    "\n",
    "<h4>Editting text and equations</h4>\n",
    "\n",
    "By <b>double clicking</b> on the blocks of ordinary text, like this one, the presented <b>text/equations can be editted aswell</b>: One enters the edit mode. \n",
    "\n",
    "Doing so the whole notebook can be editted to your liking! This is the strength of Jupyter. \n",
    "\n",
    "Feel free to write comments to yourself while going through the notebooks.\n",
    "\n",
    "Once you are done editing, the text/equations can be formatted as intended. To do so, again <b>press shift+enter</b>, as one runs blocks of code.  \n",
    "\n",
    "Furthermore, we can write formulas like the following\n",
    "\n",
    "$$ \\sum_{n=0}^{\\infty} a^n = \\frac{1}{1-a} \\quad \\text{given} \\; \\lvert a \\rvert < 1$$\n",
    "\n",
    "by writing an expression in between dollar signs. One can double click this text block to see how this example is generated.\n",
    "\n",
    "\n",
    "This way of writing formulas on the computer is called <b><a href=\"https://www.mathjax.org/\">Mathjax</a></b>. For more information on writing equations to your liking please visit <a href=\"http://meta.math.stackexchange.com/questions/5020/mathjax-basic-tutorial-and-quick-reference\">this</a> and <a href=\"http://www.suluclac.com/Wiki+MathJax+Syntax\">this mathjax overview</a>.\n",
    "\n",
    "Note, since the notebook is opened inside a web browser we can for example, add weblinks like the weblink given in this text block. \n",
    "\n",
    "----\n",
    "\n",
    "This finishes this introductory notebook. By opening the \"Week_0_Notebook.ipynb\" notebook you can get started with the actual quantum crypto related material."
   ]
  },
  {
   "cell_type": "code",
   "execution_count": null,
   "metadata": {
    "collapsed": true
   },
   "outputs": [],
   "source": []
  }
 ],
 "metadata": {
  "anaconda-cloud": {},
  "kernelspec": {
   "display_name": "Julia 0.4.7",
   "language": "julia",
   "name": "julia-0.4"
  },
  "language_info": {
   "file_extension": ".jl",
   "mimetype": "application/julia",
   "name": "julia",
   "version": "0.4.7"
  },
  "widgets": {
   "state": {
    "f2572bfd-3227-48b9-b643-5f6d25c0d3b3": {
     "views": [
      {
       "cell_index": 2
      }
     ]
    }
   },
   "version": "1.2.0"
  }
 },
 "nbformat": 4,
 "nbformat_minor": 0
}
